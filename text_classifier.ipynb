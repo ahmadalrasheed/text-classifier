{
 "cells": [
  {
   "cell_type": "markdown",
   "metadata": {},
   "source": [
    "## lab16: machine learning intro"
   ]
  },
  {
   "cell_type": "code",
   "execution_count": 73,
   "metadata": {},
   "outputs": [],
   "source": [
    "import pandas as pd\n",
    "from sklearn.feature_extraction.text import CountVectorizer\n",
    "from sklearn.model_selection import train_test_split\n",
    "from sklearn.linear_model import LogisticRegression"
   ]
  },
  {
   "cell_type": "code",
   "execution_count": 74,
   "metadata": {},
   "outputs": [
    {
     "data": {
      "text/html": [
       "<div>\n",
       "<style scoped>\n",
       "    .dataframe tbody tr th:only-of-type {\n",
       "        vertical-align: middle;\n",
       "    }\n",
       "\n",
       "    .dataframe tbody tr th {\n",
       "        vertical-align: top;\n",
       "    }\n",
       "\n",
       "    .dataframe thead th {\n",
       "        text-align: right;\n",
       "    }\n",
       "</style>\n",
       "<table border=\"1\" class=\"dataframe\">\n",
       "  <thead>\n",
       "    <tr style=\"text-align: right;\">\n",
       "      <th></th>\n",
       "      <th>sentences</th>\n",
       "      <th>label</th>\n",
       "      <th>source</th>\n",
       "    </tr>\n",
       "  </thead>\n",
       "  <tbody>\n",
       "    <tr>\n",
       "      <th>0</th>\n",
       "      <td>Wow... Loved this place.</td>\n",
       "      <td>1</td>\n",
       "      <td>yelp</td>\n",
       "    </tr>\n",
       "    <tr>\n",
       "      <th>1</th>\n",
       "      <td>Crust is not good.</td>\n",
       "      <td>0</td>\n",
       "      <td>yelp</td>\n",
       "    </tr>\n",
       "    <tr>\n",
       "      <th>2</th>\n",
       "      <td>Not tasty and the texture was just nasty.</td>\n",
       "      <td>0</td>\n",
       "      <td>yelp</td>\n",
       "    </tr>\n",
       "    <tr>\n",
       "      <th>3</th>\n",
       "      <td>Stopped by during the late May bank holiday of...</td>\n",
       "      <td>1</td>\n",
       "      <td>yelp</td>\n",
       "    </tr>\n",
       "    <tr>\n",
       "      <th>4</th>\n",
       "      <td>The selection on the menu was great and so wer...</td>\n",
       "      <td>1</td>\n",
       "      <td>yelp</td>\n",
       "    </tr>\n",
       "    <tr>\n",
       "      <th>...</th>\n",
       "      <td>...</td>\n",
       "      <td>...</td>\n",
       "      <td>...</td>\n",
       "    </tr>\n",
       "    <tr>\n",
       "      <th>743</th>\n",
       "      <td>I just got bored watching Jessice Lange take h...</td>\n",
       "      <td>0</td>\n",
       "      <td>imdb</td>\n",
       "    </tr>\n",
       "    <tr>\n",
       "      <th>744</th>\n",
       "      <td>Unfortunately, any virtue in this film's produ...</td>\n",
       "      <td>0</td>\n",
       "      <td>imdb</td>\n",
       "    </tr>\n",
       "    <tr>\n",
       "      <th>745</th>\n",
       "      <td>In a word, it is embarrassing.</td>\n",
       "      <td>0</td>\n",
       "      <td>imdb</td>\n",
       "    </tr>\n",
       "    <tr>\n",
       "      <th>746</th>\n",
       "      <td>Exceptionally bad!</td>\n",
       "      <td>0</td>\n",
       "      <td>imdb</td>\n",
       "    </tr>\n",
       "    <tr>\n",
       "      <th>747</th>\n",
       "      <td>All in all its an insult to one's intelligence...</td>\n",
       "      <td>0</td>\n",
       "      <td>imdb</td>\n",
       "    </tr>\n",
       "  </tbody>\n",
       "</table>\n",
       "<p>2748 rows × 3 columns</p>\n",
       "</div>"
      ],
      "text/plain": [
       "                                             sentences  label source\n",
       "0                             Wow... Loved this place.      1   yelp\n",
       "1                                   Crust is not good.      0   yelp\n",
       "2            Not tasty and the texture was just nasty.      0   yelp\n",
       "3    Stopped by during the late May bank holiday of...      1   yelp\n",
       "4    The selection on the menu was great and so wer...      1   yelp\n",
       "..                                                 ...    ...    ...\n",
       "743  I just got bored watching Jessice Lange take h...      0   imdb\n",
       "744  Unfortunately, any virtue in this film's produ...      0   imdb\n",
       "745                   In a word, it is embarrassing.        0   imdb\n",
       "746                               Exceptionally bad!        0   imdb\n",
       "747  All in all its an insult to one's intelligence...      0   imdb\n",
       "\n",
       "[2748 rows x 3 columns]"
      ]
     },
     "execution_count": 74,
     "metadata": {},
     "output_type": "execute_result"
    }
   ],
   "source": [
    "\n",
    "filepath = {\n",
    "    \"yelp\": \"yelp_labelled.txt\",\n",
    "    \"amazon\": \"amazon_cells_labelled.txt\",\n",
    "    \"imdb\": \"imdb_labelled.txt\",\n",
    "}\n",
    "# reading from different data sources\n",
    "data_list = []\n",
    "\n",
    "for source, path in filepath.items():\n",
    "    review_data = pd.read_csv(path, names = [\"sentences\", \"label\"], sep = \"\\t\")\n",
    "    review_data[\"source\"] = source\n",
    "    data_list.append(review_data)\n",
    "\n",
    "# concatenate them into one data frame\n",
    "review_data = pd.concat(data_list)\n",
    "review_data\n"
   ]
  },
  {
   "cell_type": "code",
   "execution_count": 75,
   "metadata": {},
   "outputs": [],
   "source": [
    "# separate the data by the original source\n",
    "yelp_data = review_data[review_data[\"source\"] == \"yelp\"]\n",
    "amazon_data = review_data[review_data[\"source\"] == \"amazon\"]\n",
    "imdb_data = review_data[review_data[\"source\"] == \"imdb\"]\n"
   ]
  },
  {
   "cell_type": "code",
   "execution_count": 76,
   "metadata": {},
   "outputs": [],
   "source": [
    "# reshape yelp data\n",
    "yelp_X = yelp_data[\"sentences\"].values\n",
    "yelp_y = yelp_data[\"label\"].values\n",
    "\n",
    "# reshape amazon data\n",
    "amazon_X = amazon_data[\"sentences\"].values\n",
    "amazon_y = amazon_data[\"label\"].values\n",
    "\n",
    "\n",
    "# reshape imdb data\n",
    "imdb_X = imdb_data[\"sentences\"].values\n",
    "imdb_y = imdb_data[\"label\"].values\n",
    "\n"
   ]
  },
  {
   "cell_type": "code",
   "execution_count": 77,
   "metadata": {},
   "outputs": [],
   "source": [
    "# split yelp data\n",
    "yelp_x_train, yelp_x_test, yelp_y_train, yelp_y_test = train_test_split(yelp_X, yelp_y, test_size = 0.3, random_state = 50)\n",
    "# split amazon data\n",
    "amazon_x_train, amazon_x_test, amazon_y_train, amazon_y_test = train_test_split(amazon_X, amazon_y, test_size = 0.3, random_state = 80)\n",
    "# split imbd data\n",
    "imdb_x_train, imdb_x_test, imdb_y_train, imdb_y_test = train_test_split(imdb_X, imdb_y, test_size = 0.3, random_state = 45)"
   ]
  },
  {
   "cell_type": "code",
   "execution_count": 78,
   "metadata": {},
   "outputs": [],
   "source": [
    "# vectorizing yelp data\n",
    "\n",
    "vectorize_yelp = CountVectorizer(min_df = 0, lowercase=False)\n",
    "vectorize_yelp.fit(yelp_x_train)\n",
    "\n",
    "yelp_X_train = vectorize_yelp.transform(yelp_x_train)\n",
    "yelp_X_test = vectorize_yelp.transform(yelp_x_test)\n",
    "\n",
    "\n",
    "# vectorizing amazon data\n",
    "\n",
    "vectorize_amazon = CountVectorizer(min_df = 0, lowercase=False)\n",
    "vectorize_amazon.fit(amazon_x_train)\n",
    "\n",
    "amazon_X_train = vectorize_amazon.transform(amazon_x_train)\n",
    "amazon_X_test = vectorize_amazon.transform(amazon_x_test)\n",
    "\n",
    "\n",
    "# vectorizing imbd data\n",
    "\n",
    "vectorize_imdb = CountVectorizer(min_df = 0, lowercase=False)\n",
    "vectorize_imdb.fit(imdb_x_train)\n",
    "\n",
    "imdb_X_train = vectorize_imdb.transform(imdb_x_train)\n",
    "imdb_X_test = vectorize_imdb.transform(imdb_x_test)"
   ]
  },
  {
   "cell_type": "code",
   "execution_count": 79,
   "metadata": {},
   "outputs": [
    {
     "name": "stdout",
     "output_type": "stream",
     "text": [
      "\n",
      "Yelp Score: 0.73\n",
      "Amazon Score: 0.81\n",
      "IMDB Score: 0.72\n",
      "\n"
     ]
    }
   ],
   "source": [
    "# yelp classification model\n",
    "yelp_classifier = LogisticRegression()\n",
    "yelp_classifier.fit(yelp_X_train, yelp_y_train)\n",
    "yelp_score = yelp_classifier.score (yelp_X_test, yelp_y_test)\n",
    "\n",
    "# amazon classification model\n",
    "amazon_classifier = LogisticRegression()\n",
    "amazon_classifier.fit(amazon_X_train, amazon_y_train)\n",
    "amazon_score = amazon_classifier.score (amazon_X_test, amazon_y_test)\n",
    "\n",
    "# imbd classification model\n",
    "imdb_classifier = LogisticRegression()\n",
    "imdb_classifier.fit(imdb_X_train, imdb_y_train)\n",
    "imdb_score = imdb_classifier.score (imdb_X_test, imdb_y_test)\n",
    "\n",
    "print(f\"\"\"\n",
    "Yelp Score: {yelp_score}\n",
    "Amazon Score: {amazon_score}\n",
    "IMDB Score: {imdb_score}\n",
    "\"\"\")"
   ]
  },
  {
   "cell_type": "code",
   "execution_count": 80,
   "metadata": {},
   "outputs": [
    {
     "data": {
      "text/plain": [
       "array([0, 0])"
      ]
     },
     "execution_count": 80,
     "metadata": {},
     "output_type": "execute_result"
    }
   ],
   "source": [
    "yelp_test_sentence_1 = [\"Cold food\", \"Slow service\"]\n",
    "\n",
    "prediction_1 = vectorize_yelp.transform(yelp_test_sentence_1)\n",
    "yelp_classifier.predict(prediction_1)"
   ]
  },
  {
   "cell_type": "code",
   "execution_count": 81,
   "metadata": {},
   "outputs": [
    {
     "data": {
      "text/plain": [
       "array([1, 1])"
      ]
     },
     "execution_count": 81,
     "metadata": {},
     "output_type": "execute_result"
    }
   ],
   "source": [
    "yelp_test_sentence_2 = [\"Great meal\", \"Properly cooked meat\"]\n",
    "\n",
    "prediction_2 = vectorize_yelp.transform(yelp_test_sentence_2)\n",
    "\n",
    "yelp_classifier.predict(prediction_2)"
   ]
  }
 ],
 "metadata": {
  "interpreter": {
   "hash": "23d5ae9ca37e069ff69cb5d6527e00dc2f3ec64a95f78f3110c8b41096d75196"
  },
  "kernelspec": {
   "display_name": "Python 3.9.5 64-bit ('.venv': poetry)",
   "name": "python3"
  },
  "language_info": {
   "codemirror_mode": {
    "name": "ipython",
    "version": 3
   },
   "file_extension": ".py",
   "mimetype": "text/x-python",
   "name": "python",
   "nbconvert_exporter": "python",
   "pygments_lexer": "ipython3",
   "version": "3.9.5"
  },
  "orig_nbformat": 4
 },
 "nbformat": 4,
 "nbformat_minor": 2
}
